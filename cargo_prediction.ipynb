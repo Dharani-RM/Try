{
 "cells": [
  {
   "cell_type": "code",
   "execution_count": 30,
   "metadata": {},
   "outputs": [],
   "source": [
    "import pandas as pd\n",
    "import matplotlib.pyplot as plt\n",
    "import seaborn as sns\n"
   ]
  },
  {
   "cell_type": "code",
   "execution_count": 31,
   "metadata": {},
   "outputs": [],
   "source": [
    "df=pd.read_csv(\"C:\\\\Users\\\\DharaniMuthaiyan\\\\Downloads\\\\MTOW_records_withOUT_null_values(Sheet1).csv\",low_memory=False)"
   ]
  },
  {
   "cell_type": "code",
   "execution_count": 32,
   "metadata": {},
   "outputs": [],
   "source": [
    "numerical_columns = df.select_dtypes(include=['number']).columns\n",
    "df[numerical_columns] = df[numerical_columns].fillna(df[numerical_columns].mean())"
   ]
  },
  {
   "cell_type": "code",
   "execution_count": 33,
   "metadata": {},
   "outputs": [],
   "source": [
    "categorical_columns = df.select_dtypes(include=['object']).columns\n",
    "df[categorical_columns] = df[categorical_columns].fillna(0)"
   ]
  },
  {
   "cell_type": "code",
   "execution_count": 34,
   "metadata": {},
   "outputs": [],
   "source": [
    "fill_columns = ['PAX_TRANSFER', 'PAX_TRANSIT', 'TOTAL_BAGS', 'BAGS_TRANSFER', 'BAGS_TRANSIT', 'RECLAIM_HALL']\n",
    "df[fill_columns] = df[fill_columns].fillna(0)"
   ]
  },
  {
   "cell_type": "code",
   "execution_count": 35,
   "metadata": {},
   "outputs": [
    {
     "data": {
      "text/plain": [
       "AIRPORT_IATA_CODE                  0\n",
       "AIRPORT_ICAO_CODE                  0\n",
       "ACTUAL_DATE                        0\n",
       "ACTUAL_TIME                        0\n",
       "SCHEDULED_BLOCK_DATE               0\n",
       "SCHEDULED_BLOCK_TIME               0\n",
       "ARR_DEP                            0\n",
       "AIRLINE_2LC                        0\n",
       "AIRLINE_3LC                        0\n",
       "FLIGHT_CODE                        0\n",
       "DEST_AIRPORT_IATA_CODE             0\n",
       "DEST_AIRPORT_ICAO_CODE             0\n",
       "FLIGHT_TYPE_CODE                   0\n",
       "AIRCRAFT_TYPE_IATA_3LC             0\n",
       "AIRCRAFT_TYPE_ICAO_5LC             0\n",
       "SEATS                              0\n",
       "MTOW                               0\n",
       "PAX_TOTAL                          0\n",
       "PAX_TRANSFER                       0\n",
       "PAX_TRANSIT                        0\n",
       "TOTAL_BAGS                         0\n",
       "BAGS_TRANSFER                      0\n",
       "BAGS_TRANSIT                       0\n",
       "FREIGHT_TOTAL                      0\n",
       "RECLAIM_HALL                       0\n",
       "RECLAIM_BELT                       0\n",
       "AIRLINE_2L (LINKED)                0\n",
       "AILINE_3L (LINKED)                 0\n",
       "LINKED_FLIGHT_CODE                 0\n",
       "TERMINAL                           0\n",
       "GATE                               0\n",
       "Stand                              0\n",
       "Arrival URN                        0\n",
       "RURN                               0\n",
       "Final IATA Destination / Origin    0\n",
       "Final ICAO Destination / Origin    0\n",
       "PARKING_STAND                      0\n",
       "AODB_AFTTAB_PK_URNO                0\n",
       "dtype: int64"
      ]
     },
     "execution_count": 35,
     "metadata": {},
     "output_type": "execute_result"
    }
   ],
   "source": [
    "df.isnull().sum()"
   ]
  },
  {
   "cell_type": "code",
   "execution_count": 36,
   "metadata": {},
   "outputs": [],
   "source": [
    "df_encoded = pd.get_dummies(df, drop_first=True)\n",
    "df_combined = pd.concat([df[numerical_columns].reset_index(drop=True), df_encoded.reset_index(drop=True)], axis=1)\n",
    "\n",
    "\n",
    "\n"
   ]
  },
  {
   "cell_type": "code",
   "execution_count": null,
   "metadata": {},
   "outputs": [],
   "source": []
  },
  {
   "cell_type": "code",
   "execution_count": null,
   "metadata": {},
   "outputs": [
    {
     "name": "stdout",
     "output_type": "stream",
     "text": [
      "Removed columns: []\n",
      "Cleaned DataFrame:\n",
      "   AIRPORT_IATA_CODE  AIRPORT_ICAO_CODE  ACTUAL_DATE  ACTUAL_TIME  \\\n",
      "0                  6                 27            0            0   \n",
      "1                  6                 27            0            0   \n",
      "2                 26                 48            0            0   \n",
      "3                 26                 48            0            0   \n",
      "4                 26                 48            0            0   \n",
      "\n",
      "   SCHEDULED_BLOCK_DATE  SCHEDULED_BLOCK_TIME  ARR_DEP  AIRLINE_2LC  \\\n",
      "0                   927                   111        0           17   \n",
      "1                   775                   101        0            3   \n",
      "2                   535                   238        0           30   \n",
      "3                   691                   209        0           30   \n",
      "4                  1823                   209        0           30   \n",
      "\n",
      "   AIRLINE_3LC  FLIGHT_CODE  ...  LINKED_FLIGHT_CODE  TERMINAL  GATE  Stand  \\\n",
      "0           16          873  ...                   0         1     0      0   \n",
      "1           27          208  ...                   0         1     0      0   \n",
      "2           34         1187  ...                   0         1     0      0   \n",
      "3           34         1187  ...                   0         1     0      0   \n",
      "4           34         1187  ...                   0         1     0      0   \n",
      "\n",
      "    Arrival URN          RURN  Final IATA Destination / Origin  \\\n",
      "0  1.083464e+09  9.372950e+08                                0   \n",
      "1  1.073080e+09  0.000000e+00                                0   \n",
      "2  1.146498e+09  9.372950e+08                                0   \n",
      "3  1.146498e+09  9.372950e+08                                0   \n",
      "4  1.146498e+09  9.372950e+08                                0   \n",
      "\n",
      "   Final ICAO Destination / Origin  PARKING_STAND  AODB_AFTTAB_PK_URNO  \n",
      "0                                0      42.205761         1.324029e+09  \n",
      "1                                0      42.205761         1.324029e+09  \n",
      "2                                0      42.205761         1.324029e+09  \n",
      "3                                0      42.205761         1.324029e+09  \n",
      "4                                0      42.205761         1.324029e+09  \n",
      "\n",
      "[5 rows x 38 columns]\n"
     ]
    }
   ],
   "source": [
    "import numpy as np\n",
    "\n",
    "correlation_matrix =  df_combined.corr()\n",
    "\n",
    "threshold = 0.1\n",
    "\n",
    "cols_to_remove = [col for col in correlation_matrix.columns if np.all(np.abs(correlation_matrix[col]) < threshold)]\n",
    "\n",
    "df_cleaned = df.drop(columns=cols_to_remove)\n",
    "\n",
    "print(f\"Removed columns: {cols_to_remove}\")\n",
    "print(f\"Cleaned DataFrame:\\n{df_cleaned.head()}\")\n"
   ]
  },
  {
   "cell_type": "code",
   "execution_count": 27,
   "metadata": {},
   "outputs": [
    {
     "name": "stdout",
     "output_type": "stream",
     "text": [
      "Linear Regression - R² Score: 0.10579778232399362\n"
     ]
    }
   ],
   "source": [
    "from sklearn.linear_model import LinearRegression\n",
    "from sklearn.metrics import r2_score\n",
    "from sklearn.model_selection import train_test_split,cross_val_score\n",
    "X = df_cleaned.drop('FREIGHT_TOTAL',axis=1)\n",
    "y = df_cleaned['FREIGHT_TOTAL']\n",
    "X_train, X_test, y_train, y_test = train_test_split(X, y, test_size=0.2, random_state=42)\n",
    "\n",
    "linear_reg = LinearRegression()\n",
    "linear_reg.fit(X, y)\n",
    "\n",
    "y_pred_linear = linear_reg.predict(X)\n",
    "r2_linear = r2_score(y, y_pred_linear)\n",
    "\n",
    "print(f\"Linear Regression - R² Score: {r2_linear}\")\n"
   ]
  }
 ],
 "metadata": {
  "kernelspec": {
   "display_name": "base",
   "language": "python",
   "name": "python3"
  },
  "language_info": {
   "codemirror_mode": {
    "name": "ipython",
    "version": 3
   },
   "file_extension": ".py",
   "mimetype": "text/x-python",
   "name": "python",
   "nbconvert_exporter": "python",
   "pygments_lexer": "ipython3",
   "version": "3.12.7"
  }
 },
 "nbformat": 4,
 "nbformat_minor": 2
}
